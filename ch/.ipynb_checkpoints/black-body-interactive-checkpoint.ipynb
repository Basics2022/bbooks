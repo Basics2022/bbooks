{
 "cells": [
  {
   "cell_type": "markdown",
   "id": "070ffbad-8118-4cc0-be32-fed8ee3a4b51",
   "metadata": {},
   "source": [
    "(physics-hs:modern:black-body)=\n",
    "# Black body radiation\n",
    "\n",
    "Black body radiation notebook"
   ]
  },
  {
   "cell_type": "code",
   "execution_count": 2,
   "id": "aaf2c589-3238-411c-b293-51d9287e3554",
   "metadata": {},
   "outputs": [],
   "source": [
    "import sys\n",
    "sys.path.append('../')\n",
    "\n",
    "import utils.black_body as bb\n",
    "\n"
   ]
  },
  {
   "cell_type": "code",
   "execution_count": null,
   "id": "eab2f9c1-c0e3-4838-910f-ff92bc53ccbd",
   "metadata": {},
   "outputs": [],
   "source": []
  },
  {
   "cell_type": "code",
   "execution_count": null,
   "id": "c35a1a02-6a01-43b7-adca-94886936e02d",
   "metadata": {},
   "outputs": [],
   "source": []
  }
 ],
 "metadata": {
  "kernelspec": {
   "display_name": "Python 3 (ipykernel)",
   "language": "python",
   "name": "python3"
  },
  "language_info": {
   "codemirror_mode": {
    "name": "ipython",
    "version": 3
   },
   "file_extension": ".py",
   "mimetype": "text/x-python",
   "name": "python",
   "nbconvert_exporter": "python",
   "pygments_lexer": "ipython3",
   "version": "3.8.10"
  }
 },
 "nbformat": 4,
 "nbformat_minor": 5
}
